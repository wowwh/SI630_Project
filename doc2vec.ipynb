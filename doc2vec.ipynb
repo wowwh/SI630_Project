{
 "cells": [
  {
   "cell_type": "code",
   "execution_count": 1,
   "metadata": {},
   "outputs": [
    {
     "name": "stderr",
     "output_type": "stream",
     "text": [
      "C:\\ProgramData\\Anaconda3\\lib\\site-packages\\gensim\\utils.py:1197: UserWarning: detected Windows; aliasing chunkize to chunkize_serial\n",
      "  warnings.warn(\"detected Windows; aliasing chunkize to chunkize_serial\")\n"
     ]
    }
   ],
   "source": [
    "import glob\n",
    "import pandas as pd\n",
    "import re\n",
    "import spacy\n",
    "import gensim\n",
    "import seaborn as sns\n",
    "from scipy import spatial\n",
    "\n",
    "\n",
    "from spacy.lang.en.stop_words import STOP_WORDS\n",
    "from collections import Counter\n",
    "from nltk.tokenize import TreebankWordTokenizer\n",
    "\n",
    "\n",
    "kTOKENIZER = TreebankWordTokenizer()\n",
    "nlp = spacy.load('en')"
   ]
  },
  {
   "cell_type": "code",
   "execution_count": 18,
   "metadata": {},
   "outputs": [
    {
     "data": {
      "text/plain": [
       "12"
      ]
     },
     "execution_count": 18,
     "metadata": {},
     "output_type": "execute_result"
    }
   ],
   "source": [
    "import multiprocessing\n",
    "multiprocessing.cpu_count()"
   ]
  },
  {
   "cell_type": "code",
   "execution_count": 3,
   "metadata": {},
   "outputs": [],
   "source": [
    "def cosine_similarity(a,b):\n",
    "    result = 1 - spatial.distance.cosine(a, b)\n",
    "    return result"
   ]
  },
  {
   "cell_type": "code",
   "execution_count": 4,
   "metadata": {},
   "outputs": [],
   "source": [
    "data = pd.read_csv('./data/ROCStories__spring2016 - ROCStories_spring2016.csv')"
   ]
  },
  {
   "cell_type": "code",
   "execution_count": 5,
   "metadata": {},
   "outputs": [
    {
     "data": {
      "text/html": [
       "<div>\n",
       "<style scoped>\n",
       "    .dataframe tbody tr th:only-of-type {\n",
       "        vertical-align: middle;\n",
       "    }\n",
       "\n",
       "    .dataframe tbody tr th {\n",
       "        vertical-align: top;\n",
       "    }\n",
       "\n",
       "    .dataframe thead th {\n",
       "        text-align: right;\n",
       "    }\n",
       "</style>\n",
       "<table border=\"1\" class=\"dataframe\">\n",
       "  <thead>\n",
       "    <tr style=\"text-align: right;\">\n",
       "      <th></th>\n",
       "      <th>storyid</th>\n",
       "      <th>storytitle</th>\n",
       "      <th>sentence1</th>\n",
       "      <th>sentence2</th>\n",
       "      <th>sentence3</th>\n",
       "      <th>sentence4</th>\n",
       "      <th>sentence5</th>\n",
       "    </tr>\n",
       "  </thead>\n",
       "  <tbody>\n",
       "    <tr>\n",
       "      <th>0</th>\n",
       "      <td>9a51198e-96f1-42c3-b09d-a3e1e067d803</td>\n",
       "      <td>Overweight Kid</td>\n",
       "      <td>Dan's parents were overweight.</td>\n",
       "      <td>Dan was overweight as well.</td>\n",
       "      <td>The doctors told his parents it was unhealthy.</td>\n",
       "      <td>His parents understood and decided to make a c...</td>\n",
       "      <td>They got themselves and Dan on a diet.</td>\n",
       "    </tr>\n",
       "    <tr>\n",
       "      <th>1</th>\n",
       "      <td>617e7ada-3878-488d-bd56-40695b91f053</td>\n",
       "      <td>The Bike Accident</td>\n",
       "      <td>Carrie had just learned how to ride a bike.</td>\n",
       "      <td>She didn't have a bike of her own.</td>\n",
       "      <td>Carrie would sneak rides on her sister's bike.</td>\n",
       "      <td>She got nervous on a hill and crashed into a w...</td>\n",
       "      <td>The bike frame bent and Carrie got a deep gash...</td>\n",
       "    </tr>\n",
       "    <tr>\n",
       "      <th>2</th>\n",
       "      <td>79b0da1f-e460-4173-ba58-8c9e2553c53a</td>\n",
       "      <td>Beach</td>\n",
       "      <td>Morgan enjoyed long walks on the beach.</td>\n",
       "      <td>She and her boyfriend decided to go for a long...</td>\n",
       "      <td>After walking for over a mile, something happe...</td>\n",
       "      <td>Morgan decided to propose to her boyfriend.</td>\n",
       "      <td>Her boyfriend was upset he didn't propose to h...</td>\n",
       "    </tr>\n",
       "    <tr>\n",
       "      <th>3</th>\n",
       "      <td>d173b7de-4611-4cdf-934c-912834755e41</td>\n",
       "      <td>The bad customer.</td>\n",
       "      <td>Jane was working at a diner.</td>\n",
       "      <td>Suddenly, a customer barged up to the counter.</td>\n",
       "      <td>He began yelling about how long his food was t...</td>\n",
       "      <td>Jane didn't know how to react.</td>\n",
       "      <td>Luckily, her coworker intervened and calmed th...</td>\n",
       "    </tr>\n",
       "    <tr>\n",
       "      <th>4</th>\n",
       "      <td>af0fd5a4-de36-47ba-8aa2-e99d10986d7a</td>\n",
       "      <td>Being Patient</td>\n",
       "      <td>I was talking to my crush today.</td>\n",
       "      <td>She continued to complain about guys flirting ...</td>\n",
       "      <td>I decided to agree with what she says and list...</td>\n",
       "      <td>After I got home, I got a text from her.</td>\n",
       "      <td>She asked if we can hang out tomorrow.</td>\n",
       "    </tr>\n",
       "  </tbody>\n",
       "</table>\n",
       "</div>"
      ],
      "text/plain": [
       "                                storyid         storytitle  \\\n",
       "0  9a51198e-96f1-42c3-b09d-a3e1e067d803     Overweight Kid   \n",
       "1  617e7ada-3878-488d-bd56-40695b91f053  The Bike Accident   \n",
       "2  79b0da1f-e460-4173-ba58-8c9e2553c53a              Beach   \n",
       "3  d173b7de-4611-4cdf-934c-912834755e41  The bad customer.   \n",
       "4  af0fd5a4-de36-47ba-8aa2-e99d10986d7a      Being Patient   \n",
       "\n",
       "                                     sentence1  \\\n",
       "0               Dan's parents were overweight.   \n",
       "1  Carrie had just learned how to ride a bike.   \n",
       "2      Morgan enjoyed long walks on the beach.   \n",
       "3                 Jane was working at a diner.   \n",
       "4             I was talking to my crush today.   \n",
       "\n",
       "                                           sentence2  \\\n",
       "0                        Dan was overweight as well.   \n",
       "1                 She didn't have a bike of her own.   \n",
       "2  She and her boyfriend decided to go for a long...   \n",
       "3     Suddenly, a customer barged up to the counter.   \n",
       "4  She continued to complain about guys flirting ...   \n",
       "\n",
       "                                           sentence3  \\\n",
       "0     The doctors told his parents it was unhealthy.   \n",
       "1     Carrie would sneak rides on her sister's bike.   \n",
       "2  After walking for over a mile, something happe...   \n",
       "3  He began yelling about how long his food was t...   \n",
       "4  I decided to agree with what she says and list...   \n",
       "\n",
       "                                           sentence4  \\\n",
       "0  His parents understood and decided to make a c...   \n",
       "1  She got nervous on a hill and crashed into a w...   \n",
       "2        Morgan decided to propose to her boyfriend.   \n",
       "3                     Jane didn't know how to react.   \n",
       "4           After I got home, I got a text from her.   \n",
       "\n",
       "                                           sentence5  \n",
       "0             They got themselves and Dan on a diet.  \n",
       "1  The bike frame bent and Carrie got a deep gash...  \n",
       "2  Her boyfriend was upset he didn't propose to h...  \n",
       "3  Luckily, her coworker intervened and calmed th...  \n",
       "4             She asked if we can hang out tomorrow.  "
      ]
     },
     "execution_count": 5,
     "metadata": {},
     "output_type": "execute_result"
    }
   ],
   "source": [
    "data.head(5)"
   ]
  },
  {
   "cell_type": "code",
   "execution_count": 6,
   "metadata": {},
   "outputs": [],
   "source": [
    "import numpy as np"
   ]
  },
  {
   "cell_type": "code",
   "execution_count": 7,
   "metadata": {},
   "outputs": [],
   "source": [
    "corpus=[]\n",
    "for i in range(len(data)):\n",
    "    for j in range(5):\n",
    "        s='sentence'+str(j+1)\n",
    "        c=data.iloc[i][s]\n",
    "        corpus.append(gensim.models.doc2vec.TaggedDocument(gensim.utils.simple_preprocess(c), [i]))\n",
    "    \n",
    "    \n"
   ]
  },
  {
   "cell_type": "code",
   "execution_count": 19,
   "metadata": {},
   "outputs": [],
   "source": [
    "model = gensim.models.doc2vec.Doc2Vec(dm=0, vector_size=300, negative=5, min_count=5, epochs=150, workers=multiprocessing.cpu_count())\n",
    "model.build_vocab(corpus)"
   ]
  },
  {
   "cell_type": "code",
   "execution_count": 20,
   "metadata": {},
   "outputs": [
    {
     "name": "stdout",
     "output_type": "stream",
     "text": [
      "Wall time: 14min 9s\n"
     ]
    }
   ],
   "source": [
    "%time model.train(corpus, total_examples=model.corpus_count, epochs=model.epochs)"
   ]
  },
  {
   "cell_type": "code",
   "execution_count": 23,
   "metadata": {},
   "outputs": [],
   "source": [
    "# from gensim.models import Doc2Vec\n",
    "# model = Doc2Vec.load('model_2400.d2v')\n",
    "model.save(\"./word2vec_model/m_300.d2v\")\n"
   ]
  },
  {
   "cell_type": "code",
   "execution_count": 12,
   "metadata": {},
   "outputs": [],
   "source": []
  },
  {
   "cell_type": "code",
   "execution_count": null,
   "metadata": {},
   "outputs": [],
   "source": []
  },
  {
   "cell_type": "code",
   "execution_count": null,
   "metadata": {},
   "outputs": [],
   "source": []
  }
 ],
 "metadata": {
  "kernelspec": {
   "display_name": "Python 3",
   "language": "python",
   "name": "python3"
  },
  "language_info": {
   "codemirror_mode": {
    "name": "ipython",
    "version": 3
   },
   "file_extension": ".py",
   "mimetype": "text/x-python",
   "name": "python",
   "nbconvert_exporter": "python",
   "pygments_lexer": "ipython3",
   "version": "3.6.5"
  }
 },
 "nbformat": 4,
 "nbformat_minor": 2
}
