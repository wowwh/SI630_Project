{
 "cells": [
  {
   "cell_type": "code",
   "execution_count": 1,
   "metadata": {},
   "outputs": [
    {
     "name": "stderr",
     "output_type": "stream",
     "text": [
      "C:\\ProgramData\\Anaconda3\\lib\\site-packages\\gensim\\utils.py:1197: UserWarning: detected Windows; aliasing chunkize to chunkize_serial\n",
      "  warnings.warn(\"detected Windows; aliasing chunkize to chunkize_serial\")\n"
     ]
    }
   ],
   "source": [
    "import glob\n",
    "import pandas as pd\n",
    "import numpy as np\n",
    "import re\n",
    "import spacy\n",
    "import gensim\n",
    "\n",
    "from spacy.lang.en.stop_words import STOP_WORDS\n",
    "from collections import Counter\n",
    "from nltk.tokenize import TreebankWordTokenizer\n",
    "\n",
    "kTOKENIZER = TreebankWordTokenizer()\n",
    "nlp = spacy.load('en')"
   ]
  },
  {
   "cell_type": "code",
   "execution_count": 2,
   "metadata": {},
   "outputs": [],
   "source": [
    "training_set = pd.read_csv('./data/ROCStories__spring2016 - ROCStories_spring2016.csv')"
   ]
  },
  {
   "cell_type": "code",
   "execution_count": 3,
   "metadata": {},
   "outputs": [
    {
     "data": {
      "text/html": [
       "<div>\n",
       "<style scoped>\n",
       "    .dataframe tbody tr th:only-of-type {\n",
       "        vertical-align: middle;\n",
       "    }\n",
       "\n",
       "    .dataframe tbody tr th {\n",
       "        vertical-align: top;\n",
       "    }\n",
       "\n",
       "    .dataframe thead th {\n",
       "        text-align: right;\n",
       "    }\n",
       "</style>\n",
       "<table border=\"1\" class=\"dataframe\">\n",
       "  <thead>\n",
       "    <tr style=\"text-align: right;\">\n",
       "      <th></th>\n",
       "      <th>storyid</th>\n",
       "      <th>storytitle</th>\n",
       "      <th>sentence1</th>\n",
       "      <th>sentence2</th>\n",
       "      <th>sentence3</th>\n",
       "      <th>sentence4</th>\n",
       "      <th>sentence5</th>\n",
       "    </tr>\n",
       "  </thead>\n",
       "  <tbody>\n",
       "    <tr>\n",
       "      <th>0</th>\n",
       "      <td>9a51198e-96f1-42c3-b09d-a3e1e067d803</td>\n",
       "      <td>Overweight Kid</td>\n",
       "      <td>Dan's parents were overweight.</td>\n",
       "      <td>Dan was overweight as well.</td>\n",
       "      <td>The doctors told his parents it was unhealthy.</td>\n",
       "      <td>His parents understood and decided to make a c...</td>\n",
       "      <td>They got themselves and Dan on a diet.</td>\n",
       "    </tr>\n",
       "    <tr>\n",
       "      <th>1</th>\n",
       "      <td>617e7ada-3878-488d-bd56-40695b91f053</td>\n",
       "      <td>The Bike Accident</td>\n",
       "      <td>Carrie had just learned how to ride a bike.</td>\n",
       "      <td>She didn't have a bike of her own.</td>\n",
       "      <td>Carrie would sneak rides on her sister's bike.</td>\n",
       "      <td>She got nervous on a hill and crashed into a w...</td>\n",
       "      <td>The bike frame bent and Carrie got a deep gash...</td>\n",
       "    </tr>\n",
       "    <tr>\n",
       "      <th>2</th>\n",
       "      <td>79b0da1f-e460-4173-ba58-8c9e2553c53a</td>\n",
       "      <td>Beach</td>\n",
       "      <td>Morgan enjoyed long walks on the beach.</td>\n",
       "      <td>She and her boyfriend decided to go for a long...</td>\n",
       "      <td>After walking for over a mile, something happe...</td>\n",
       "      <td>Morgan decided to propose to her boyfriend.</td>\n",
       "      <td>Her boyfriend was upset he didn't propose to h...</td>\n",
       "    </tr>\n",
       "    <tr>\n",
       "      <th>3</th>\n",
       "      <td>d173b7de-4611-4cdf-934c-912834755e41</td>\n",
       "      <td>The bad customer.</td>\n",
       "      <td>Jane was working at a diner.</td>\n",
       "      <td>Suddenly, a customer barged up to the counter.</td>\n",
       "      <td>He began yelling about how long his food was t...</td>\n",
       "      <td>Jane didn't know how to react.</td>\n",
       "      <td>Luckily, her coworker intervened and calmed th...</td>\n",
       "    </tr>\n",
       "    <tr>\n",
       "      <th>4</th>\n",
       "      <td>af0fd5a4-de36-47ba-8aa2-e99d10986d7a</td>\n",
       "      <td>Being Patient</td>\n",
       "      <td>I was talking to my crush today.</td>\n",
       "      <td>She continued to complain about guys flirting ...</td>\n",
       "      <td>I decided to agree with what she says and list...</td>\n",
       "      <td>After I got home, I got a text from her.</td>\n",
       "      <td>She asked if we can hang out tomorrow.</td>\n",
       "    </tr>\n",
       "  </tbody>\n",
       "</table>\n",
       "</div>"
      ],
      "text/plain": [
       "                                storyid         storytitle  \\\n",
       "0  9a51198e-96f1-42c3-b09d-a3e1e067d803     Overweight Kid   \n",
       "1  617e7ada-3878-488d-bd56-40695b91f053  The Bike Accident   \n",
       "2  79b0da1f-e460-4173-ba58-8c9e2553c53a              Beach   \n",
       "3  d173b7de-4611-4cdf-934c-912834755e41  The bad customer.   \n",
       "4  af0fd5a4-de36-47ba-8aa2-e99d10986d7a      Being Patient   \n",
       "\n",
       "                                     sentence1  \\\n",
       "0               Dan's parents were overweight.   \n",
       "1  Carrie had just learned how to ride a bike.   \n",
       "2      Morgan enjoyed long walks on the beach.   \n",
       "3                 Jane was working at a diner.   \n",
       "4             I was talking to my crush today.   \n",
       "\n",
       "                                           sentence2  \\\n",
       "0                        Dan was overweight as well.   \n",
       "1                 She didn't have a bike of her own.   \n",
       "2  She and her boyfriend decided to go for a long...   \n",
       "3     Suddenly, a customer barged up to the counter.   \n",
       "4  She continued to complain about guys flirting ...   \n",
       "\n",
       "                                           sentence3  \\\n",
       "0     The doctors told his parents it was unhealthy.   \n",
       "1     Carrie would sneak rides on her sister's bike.   \n",
       "2  After walking for over a mile, something happe...   \n",
       "3  He began yelling about how long his food was t...   \n",
       "4  I decided to agree with what she says and list...   \n",
       "\n",
       "                                           sentence4  \\\n",
       "0  His parents understood and decided to make a c...   \n",
       "1  She got nervous on a hill and crashed into a w...   \n",
       "2        Morgan decided to propose to her boyfriend.   \n",
       "3                     Jane didn't know how to react.   \n",
       "4           After I got home, I got a text from her.   \n",
       "\n",
       "                                           sentence5  \n",
       "0             They got themselves and Dan on a diet.  \n",
       "1  The bike frame bent and Carrie got a deep gash...  \n",
       "2  Her boyfriend was upset he didn't propose to h...  \n",
       "3  Luckily, her coworker intervened and calmed th...  \n",
       "4             She asked if we can hang out tomorrow.  "
      ]
     },
     "execution_count": 3,
     "metadata": {},
     "output_type": "execute_result"
    }
   ],
   "source": [
    "training_set.head()"
   ]
  },
  {
   "cell_type": "code",
   "execution_count": 12,
   "metadata": {},
   "outputs": [],
   "source": [
    "training_pos = []\n",
    "training_neg = []\n",
    "\n",
    "for i in range(len(training_set)):\n",
    "    sentence = ''\n",
    "    for j in range(4):\n",
    "        s = 'sentence' + str(j + 1)\n",
    "        c = training_set.iloc[i][s]\n",
    "        sentence += c\n",
    "    training_pos.append((gensim.utils.simple_preprocess(sentence) , gensim.utils.simple_preprocess(training_set.loc[i]['sentence5'])))\n",
    "    \n",
    "    r = np.random.randint(0,len(training_set))\n",
    "    while r == i:\n",
    "        r = np.random.randint(0,len(training_set))\n",
    "    training_pos.append((gensim.utils.simple_preprocess(sentence) , gensim.utils.simple_preprocess(training_set.loc[r]['sentence5'])))\n"
   ]
  },
  {
   "cell_type": "code",
   "execution_count": 13,
   "metadata": {},
   "outputs": [],
   "source": [
    "training_pos_4only = []\n",
    "training_neg_4only = []\n",
    "\n",
    "for i in range(len(training_set)):\n",
    "    sentence=training_set.iloc[i]['sentence4']\n",
    "    \n",
    "    training_pos_4only.append((gensim.utils.simple_preprocess(sentence) , gensim.utils.simple_preprocess(training_set.loc[i]['sentence5'])))\n",
    "    \n",
    "    r = np.random.randint(0,len(training_set))\n",
    "    while r == i:\n",
    "        r = np.random.randint(0,len(training_set))\n",
    "    training_neg_4only.append((gensim.utils.simple_preprocess(sentence) , gensim.utils.simple_preprocess(training_set.loc[r]['sentence5'])))"
   ]
  },
  {
   "cell_type": "code",
   "execution_count": 16,
   "metadata": {},
   "outputs": [],
   "source": [
    "# training_pos[:10]\n",
    "# training_pos_4only[:10]"
   ]
  },
  {
   "cell_type": "code",
   "execution_count": 6,
   "metadata": {},
   "outputs": [],
   "source": [
    "test_data = pd.read_csv('./data/cloze_test_test__spring2016 - cloze_test_ALL_test.csv')"
   ]
  },
  {
   "cell_type": "code",
   "execution_count": 7,
   "metadata": {},
   "outputs": [
    {
     "data": {
      "text/html": [
       "<div>\n",
       "<style scoped>\n",
       "    .dataframe tbody tr th:only-of-type {\n",
       "        vertical-align: middle;\n",
       "    }\n",
       "\n",
       "    .dataframe tbody tr th {\n",
       "        vertical-align: top;\n",
       "    }\n",
       "\n",
       "    .dataframe thead th {\n",
       "        text-align: right;\n",
       "    }\n",
       "</style>\n",
       "<table border=\"1\" class=\"dataframe\">\n",
       "  <thead>\n",
       "    <tr style=\"text-align: right;\">\n",
       "      <th></th>\n",
       "      <th>InputStoryid</th>\n",
       "      <th>InputSentence1</th>\n",
       "      <th>InputSentence2</th>\n",
       "      <th>InputSentence3</th>\n",
       "      <th>InputSentence4</th>\n",
       "      <th>RandomFifthSentenceQuiz1</th>\n",
       "      <th>RandomFifthSentenceQuiz2</th>\n",
       "      <th>AnswerRightEnding</th>\n",
       "    </tr>\n",
       "  </thead>\n",
       "  <tbody>\n",
       "    <tr>\n",
       "      <th>0</th>\n",
       "      <td>b929f263-1dcd-4a0b-b267-5d5ff2fe65bb</td>\n",
       "      <td>My friends all love to go to the club to dance.</td>\n",
       "      <td>They think it's a lot of fun and always invite.</td>\n",
       "      <td>I finally decided to tag along last Saturday.</td>\n",
       "      <td>I danced terribly and broke a friend's toe.</td>\n",
       "      <td>My friends decided to keep inviting me out as ...</td>\n",
       "      <td>The next weekend, I was asked to please stay h...</td>\n",
       "      <td>2</td>\n",
       "    </tr>\n",
       "    <tr>\n",
       "      <th>1</th>\n",
       "      <td>7cbbc0af-bcce-4f56-871d-963f9bb6a99d</td>\n",
       "      <td>I tried going to the park the other day.</td>\n",
       "      <td>The weather seemed nice enough for a walk.</td>\n",
       "      <td>Within minutes of getting there I started snee...</td>\n",
       "      <td>My eyes were watery and it was hard to breathe.</td>\n",
       "      <td>My allergies were too bad and I had to go back...</td>\n",
       "      <td>It reminded me of how much I loved spring flow...</td>\n",
       "      <td>1</td>\n",
       "    </tr>\n",
       "    <tr>\n",
       "      <th>2</th>\n",
       "      <td>4745d627-be9b-45f2-ad92-99c82cc83f85</td>\n",
       "      <td>Avery was married with children.</td>\n",
       "      <td>She was tired of her boring life.</td>\n",
       "      <td>One day, she decided to meet up with an old bo...</td>\n",
       "      <td>She made poor decisions that night and was unf...</td>\n",
       "      <td>Avery thought her children would be happy with...</td>\n",
       "      <td>Avery regretted what she did the next day.</td>\n",
       "      <td>2</td>\n",
       "    </tr>\n",
       "    <tr>\n",
       "      <th>3</th>\n",
       "      <td>6bc5a855-3a02-454c-8d8b-4428b1864f95</td>\n",
       "      <td>Josh loved when his mom baked apple pie.</td>\n",
       "      <td>He hated how he always had to wait until after...</td>\n",
       "      <td>So he decided this time he would sneak a piece...</td>\n",
       "      <td>The eggs his mom used must have been bad though.</td>\n",
       "      <td>Josh thought that the pie was delicious.</td>\n",
       "      <td>Josh got sick.</td>\n",
       "      <td>2</td>\n",
       "    </tr>\n",
       "    <tr>\n",
       "      <th>4</th>\n",
       "      <td>2f74e81d-957b-4541-9e66-59e5eaa6aef1</td>\n",
       "      <td>John was writing lyrics for his new album.</td>\n",
       "      <td>He started experiencing writer's block.</td>\n",
       "      <td>He tried to force himself to write but it woul...</td>\n",
       "      <td>He took a walk, hung out with some friends, an...</td>\n",
       "      <td>He felt inspiration and then went back home to...</td>\n",
       "      <td>John then got an idea for his painting.</td>\n",
       "      <td>1</td>\n",
       "    </tr>\n",
       "  </tbody>\n",
       "</table>\n",
       "</div>"
      ],
      "text/plain": [
       "                           InputStoryid  \\\n",
       "0  b929f263-1dcd-4a0b-b267-5d5ff2fe65bb   \n",
       "1  7cbbc0af-bcce-4f56-871d-963f9bb6a99d   \n",
       "2  4745d627-be9b-45f2-ad92-99c82cc83f85   \n",
       "3  6bc5a855-3a02-454c-8d8b-4428b1864f95   \n",
       "4  2f74e81d-957b-4541-9e66-59e5eaa6aef1   \n",
       "\n",
       "                                    InputSentence1  \\\n",
       "0  My friends all love to go to the club to dance.   \n",
       "1         I tried going to the park the other day.   \n",
       "2                 Avery was married with children.   \n",
       "3         Josh loved when his mom baked apple pie.   \n",
       "4       John was writing lyrics for his new album.   \n",
       "\n",
       "                                      InputSentence2  \\\n",
       "0    They think it's a lot of fun and always invite.   \n",
       "1         The weather seemed nice enough for a walk.   \n",
       "2                  She was tired of her boring life.   \n",
       "3  He hated how he always had to wait until after...   \n",
       "4            He started experiencing writer's block.   \n",
       "\n",
       "                                      InputSentence3  \\\n",
       "0      I finally decided to tag along last Saturday.   \n",
       "1  Within minutes of getting there I started snee...   \n",
       "2  One day, she decided to meet up with an old bo...   \n",
       "3  So he decided this time he would sneak a piece...   \n",
       "4  He tried to force himself to write but it woul...   \n",
       "\n",
       "                                      InputSentence4  \\\n",
       "0        I danced terribly and broke a friend's toe.   \n",
       "1    My eyes were watery and it was hard to breathe.   \n",
       "2  She made poor decisions that night and was unf...   \n",
       "3   The eggs his mom used must have been bad though.   \n",
       "4  He took a walk, hung out with some friends, an...   \n",
       "\n",
       "                            RandomFifthSentenceQuiz1  \\\n",
       "0  My friends decided to keep inviting me out as ...   \n",
       "1  My allergies were too bad and I had to go back...   \n",
       "2  Avery thought her children would be happy with...   \n",
       "3           Josh thought that the pie was delicious.   \n",
       "4  He felt inspiration and then went back home to...   \n",
       "\n",
       "                            RandomFifthSentenceQuiz2  AnswerRightEnding  \n",
       "0  The next weekend, I was asked to please stay h...                  2  \n",
       "1  It reminded me of how much I loved spring flow...                  1  \n",
       "2         Avery regretted what she did the next day.                  2  \n",
       "3                                     Josh got sick.                  2  \n",
       "4            John then got an idea for his painting.                  1  "
      ]
     },
     "execution_count": 7,
     "metadata": {},
     "output_type": "execute_result"
    }
   ],
   "source": [
    "test_data.head()"
   ]
  },
  {
   "cell_type": "code",
   "execution_count": 10,
   "metadata": {},
   "outputs": [],
   "source": [
    "test_1 = []\n",
    "test_2 = [] \n",
    "\n",
    "for i in range(len(test_data)):\n",
    "    sentence = ''\n",
    "    for j in range(4):\n",
    "        s = 'InputSentence'+str(j+1)\n",
    "        c = test_data.iloc[i][s]\n",
    "        sentence += c\n",
    "\n",
    "    test_1.append((gensim.utils.simple_preprocess(sentence) ,gensim.utils.simple_preprocess(test_data.loc[i][\"RandomFifthSentenceQuiz1\"])))\n",
    "    test_2.append((gensim.utils.simple_preprocess(sentence) ,gensim.utils.simple_preprocess(test_data.loc[i][\"RandomFifthSentenceQuiz2\"]))) "
   ]
  },
  {
   "cell_type": "code",
   "execution_count": 11,
   "metadata": {},
   "outputs": [],
   "source": [
    "test_1_4only = []\n",
    "test_2_4only = [] \n",
    "\n",
    "for i in range(len(test_data)):\n",
    "    test_1_4only.append((gensim.utils.simple_preprocess(test_data.loc[i]['InputSentence4']) , gensim.utils.simple_preprocess(test_data.loc[i][\"RandomFifthSentenceQuiz1\"])))\n",
    "    test_2_4only.append((gensim.utils.simple_preprocess(test_data.loc[i]['InputSentence4']) , gensim.utils.simple_preprocess(test_data.loc[i][\"RandomFifthSentenceQuiz2\"])))"
   ]
  },
  {
   "cell_type": "code",
   "execution_count": null,
   "metadata": {},
   "outputs": [],
   "source": []
  },
  {
   "cell_type": "code",
   "execution_count": 17,
   "metadata": {},
   "outputs": [],
   "source": [
    "list_pos=[(doc, 1) for doc in training_pos_4only]\n",
    "list_neg=[(doc, -1) for doc in training_neg_4only]\n",
    "list_pos_t=[(doc, 1) for doc in test_1_4only]\n",
    "list_neg_t=[(doc, -1) for doc in test_2_4only]\n",
    "\n",
    "\n",
    "\n",
    "# list_pos=[(doc, 1) for doc in training_pos]\n",
    "# list_neg=[(doc, -1) for doc in training_neg]\n",
    "\n",
    "# list_pos_t=[(doc, 1) for doc in test_1]\n",
    "# list_neg_t=[(doc, -1) for doc in test_2]\n",
    "\n",
    "\n",
    "\n",
    "train_list=list_pos+list_neg\n",
    "train_targets, train_regressors = zip(*train_list)\n",
    "test_list=list_pos_t+list_neg_t\n",
    "test_targets, test_regressors = zip(*test_list)"
   ]
  },
  {
   "cell_type": "code",
   "execution_count": 22,
   "metadata": {},
   "outputs": [
    {
     "data": {
      "text/plain": [
       "array([1, 2, 3, 4, 5])"
      ]
     },
     "execution_count": 22,
     "metadata": {},
     "output_type": "execute_result"
    }
   ],
   "source": []
  },
  {
   "cell_type": "code",
   "execution_count": 18,
   "metadata": {},
   "outputs": [],
   "source": [
    "from gensim.models import Doc2Vec"
   ]
  },
  {
   "cell_type": "code",
   "execution_count": 66,
   "metadata": {},
   "outputs": [],
   "source": [
    "model = Doc2Vec.load('./word2vec_model/m1.d2v')"
   ]
  },
  {
   "cell_type": "code",
   "execution_count": 67,
   "metadata": {},
   "outputs": [],
   "source": [
    "X = []\n",
    "for i in range(len(train_targets)):\n",
    "    X.append(np.append(model.infer_vector(train_targets[i][0]),model.infer_vector(train_targets[i][1])))\n",
    "train_x = np.asarray(X)"
   ]
  },
  {
   "cell_type": "code",
   "execution_count": null,
   "metadata": {},
   "outputs": [],
   "source": []
  },
  {
   "cell_type": "code",
   "execution_count": 68,
   "metadata": {},
   "outputs": [
    {
     "data": {
      "text/plain": [
       "0.5"
      ]
     },
     "execution_count": 68,
     "metadata": {},
     "output_type": "execute_result"
    }
   ],
   "source": [
    "Y = np.asarray(train_regressors)\n",
    "from sklearn import preprocessing\n",
    "le = preprocessing.LabelEncoder()\n",
    "le.fit(Y)\n",
    "train_y = le.transform(Y)\n",
    "np.mean(train_y)"
   ]
  },
  {
   "cell_type": "code",
   "execution_count": 74,
   "metadata": {},
   "outputs": [
    {
     "data": {
      "text/plain": [
       "LogisticRegression(C=1.0, class_weight=None, dual=False, fit_intercept=True,\n",
       "          intercept_scaling=1, max_iter=1000, multi_class='ovr', n_jobs=1,\n",
       "          penalty='l2', random_state=None, solver='liblinear', tol=0.0001,\n",
       "          verbose=0, warm_start=False)"
      ]
     },
     "execution_count": 74,
     "metadata": {},
     "output_type": "execute_result"
    }
   ],
   "source": [
    "from sklearn import linear_model\n",
    "logreg = linear_model.LogisticRegression(max_iter=1000)\n",
    "logreg.fit(train_x, train_y)"
   ]
  },
  {
   "cell_type": "code",
   "execution_count": 83,
   "metadata": {},
   "outputs": [],
   "source": [
    "test_list = []\n",
    "for i in range(len(test_targets)):\n",
    "    test_list.append(np.append(model.infer_vector(test_targets[i][0]),model.infer_vector(test_targets[i][1])))\n",
    "test_x = np.asarray(test_list)\n",
    "# test_Y = np.asarray(test_regressors)\n",
    "# test_y = le.transform(test_Y)"
   ]
  },
  {
   "cell_type": "code",
   "execution_count": 84,
   "metadata": {},
   "outputs": [],
   "source": [
    "preds=[]\n",
    "probs = logreg.predict_proba(test_x)\n",
    "half=int(len(probs)/2)\n",
    "for i in range(half):\n",
    "    if probs[i][1]>=probs[i+half][1]:\n",
    "        preds.append(1)\n",
    "    else:\n",
    "        preds.append(2)"
   ]
  },
  {
   "cell_type": "code",
   "execution_count": 85,
   "metadata": {},
   "outputs": [],
   "source": [
    "test_answer_true=np.array(list(test_data[\"AnswerRightEnding\"]))"
   ]
  },
  {
   "cell_type": "code",
   "execution_count": 86,
   "metadata": {},
   "outputs": [
    {
     "data": {
      "text/plain": [
       "0.5227151256012827"
      ]
     },
     "execution_count": 86,
     "metadata": {},
     "output_type": "execute_result"
    }
   ],
   "source": [
    "np.mean(np.array(preds)==test_answer_true)"
   ]
  },
  {
   "cell_type": "code",
   "execution_count": null,
   "metadata": {},
   "outputs": [],
   "source": [
    "\n"
   ]
  },
  {
   "cell_type": "markdown",
   "metadata": {},
   "source": [
    "2400 model, all, 0.5269909139497595 <br>\n",
    "2400 model, 4, 0.5173703901656868"
   ]
  },
  {
   "cell_type": "code",
   "execution_count": null,
   "metadata": {},
   "outputs": [],
   "source": [
    "test_x"
   ]
  }
 ],
 "metadata": {
  "kernelspec": {
   "display_name": "Python 3",
   "language": "python",
   "name": "python3"
  },
  "language_info": {
   "codemirror_mode": {
    "name": "ipython",
    "version": 3
   },
   "file_extension": ".py",
   "mimetype": "text/x-python",
   "name": "python",
   "nbconvert_exporter": "python",
   "pygments_lexer": "ipython3",
   "version": "3.6.5"
  }
 },
 "nbformat": 4,
 "nbformat_minor": 2
}
