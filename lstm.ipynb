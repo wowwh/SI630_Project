{
 "cells": [
  {
   "cell_type": "code",
   "execution_count": 1,
   "metadata": {},
   "outputs": [
    {
     "name": "stderr",
     "output_type": "stream",
     "text": [
      "C:\\ProgramData\\Anaconda3\\lib\\site-packages\\gensim\\utils.py:1197: UserWarning: detected Windows; aliasing chunkize to chunkize_serial\n",
      "  warnings.warn(\"detected Windows; aliasing chunkize to chunkize_serial\")\n"
     ]
    }
   ],
   "source": [
    "import glob\n",
    "import pandas as pd\n",
    "import numpy as np\n",
    "import re\n",
    "import spacy\n",
    "import gensim\n",
    "\n",
    "from spacy.lang.en.stop_words import STOP_WORDS\n",
    "from collections import Counter\n",
    "from nltk.tokenize import TreebankWordTokenizer\n",
    "\n",
    "kTOKENIZER = TreebankWordTokenizer()\n",
    "nlp = spacy.load('en')"
   ]
  },
  {
   "cell_type": "code",
   "execution_count": 2,
   "metadata": {},
   "outputs": [],
   "source": [
    "import torch\n",
    "import torch.nn as nn\n",
    "import torch.nn.functional as F\n",
    "import torch.optim as optim"
   ]
  },
  {
   "cell_type": "code",
   "execution_count": 3,
   "metadata": {},
   "outputs": [],
   "source": [
    "training_set = pd.read_csv('./data/ROCStories__spring2016 - ROCStories_spring2016.csv')"
   ]
  },
  {
   "cell_type": "code",
   "execution_count": 4,
   "metadata": {},
   "outputs": [
    {
     "data": {
      "text/html": [
       "<div>\n",
       "<style scoped>\n",
       "    .dataframe tbody tr th:only-of-type {\n",
       "        vertical-align: middle;\n",
       "    }\n",
       "\n",
       "    .dataframe tbody tr th {\n",
       "        vertical-align: top;\n",
       "    }\n",
       "\n",
       "    .dataframe thead th {\n",
       "        text-align: right;\n",
       "    }\n",
       "</style>\n",
       "<table border=\"1\" class=\"dataframe\">\n",
       "  <thead>\n",
       "    <tr style=\"text-align: right;\">\n",
       "      <th></th>\n",
       "      <th>storyid</th>\n",
       "      <th>storytitle</th>\n",
       "      <th>sentence1</th>\n",
       "      <th>sentence2</th>\n",
       "      <th>sentence3</th>\n",
       "      <th>sentence4</th>\n",
       "      <th>sentence5</th>\n",
       "    </tr>\n",
       "  </thead>\n",
       "  <tbody>\n",
       "    <tr>\n",
       "      <th>0</th>\n",
       "      <td>9a51198e-96f1-42c3-b09d-a3e1e067d803</td>\n",
       "      <td>Overweight Kid</td>\n",
       "      <td>Dan's parents were overweight.</td>\n",
       "      <td>Dan was overweight as well.</td>\n",
       "      <td>The doctors told his parents it was unhealthy.</td>\n",
       "      <td>His parents understood and decided to make a c...</td>\n",
       "      <td>They got themselves and Dan on a diet.</td>\n",
       "    </tr>\n",
       "    <tr>\n",
       "      <th>1</th>\n",
       "      <td>617e7ada-3878-488d-bd56-40695b91f053</td>\n",
       "      <td>The Bike Accident</td>\n",
       "      <td>Carrie had just learned how to ride a bike.</td>\n",
       "      <td>She didn't have a bike of her own.</td>\n",
       "      <td>Carrie would sneak rides on her sister's bike.</td>\n",
       "      <td>She got nervous on a hill and crashed into a w...</td>\n",
       "      <td>The bike frame bent and Carrie got a deep gash...</td>\n",
       "    </tr>\n",
       "    <tr>\n",
       "      <th>2</th>\n",
       "      <td>79b0da1f-e460-4173-ba58-8c9e2553c53a</td>\n",
       "      <td>Beach</td>\n",
       "      <td>Morgan enjoyed long walks on the beach.</td>\n",
       "      <td>She and her boyfriend decided to go for a long...</td>\n",
       "      <td>After walking for over a mile, something happe...</td>\n",
       "      <td>Morgan decided to propose to her boyfriend.</td>\n",
       "      <td>Her boyfriend was upset he didn't propose to h...</td>\n",
       "    </tr>\n",
       "    <tr>\n",
       "      <th>3</th>\n",
       "      <td>d173b7de-4611-4cdf-934c-912834755e41</td>\n",
       "      <td>The bad customer.</td>\n",
       "      <td>Jane was working at a diner.</td>\n",
       "      <td>Suddenly, a customer barged up to the counter.</td>\n",
       "      <td>He began yelling about how long his food was t...</td>\n",
       "      <td>Jane didn't know how to react.</td>\n",
       "      <td>Luckily, her coworker intervened and calmed th...</td>\n",
       "    </tr>\n",
       "    <tr>\n",
       "      <th>4</th>\n",
       "      <td>af0fd5a4-de36-47ba-8aa2-e99d10986d7a</td>\n",
       "      <td>Being Patient</td>\n",
       "      <td>I was talking to my crush today.</td>\n",
       "      <td>She continued to complain about guys flirting ...</td>\n",
       "      <td>I decided to agree with what she says and list...</td>\n",
       "      <td>After I got home, I got a text from her.</td>\n",
       "      <td>She asked if we can hang out tomorrow.</td>\n",
       "    </tr>\n",
       "  </tbody>\n",
       "</table>\n",
       "</div>"
      ],
      "text/plain": [
       "                                storyid         storytitle  \\\n",
       "0  9a51198e-96f1-42c3-b09d-a3e1e067d803     Overweight Kid   \n",
       "1  617e7ada-3878-488d-bd56-40695b91f053  The Bike Accident   \n",
       "2  79b0da1f-e460-4173-ba58-8c9e2553c53a              Beach   \n",
       "3  d173b7de-4611-4cdf-934c-912834755e41  The bad customer.   \n",
       "4  af0fd5a4-de36-47ba-8aa2-e99d10986d7a      Being Patient   \n",
       "\n",
       "                                     sentence1  \\\n",
       "0               Dan's parents were overweight.   \n",
       "1  Carrie had just learned how to ride a bike.   \n",
       "2      Morgan enjoyed long walks on the beach.   \n",
       "3                 Jane was working at a diner.   \n",
       "4             I was talking to my crush today.   \n",
       "\n",
       "                                           sentence2  \\\n",
       "0                        Dan was overweight as well.   \n",
       "1                 She didn't have a bike of her own.   \n",
       "2  She and her boyfriend decided to go for a long...   \n",
       "3     Suddenly, a customer barged up to the counter.   \n",
       "4  She continued to complain about guys flirting ...   \n",
       "\n",
       "                                           sentence3  \\\n",
       "0     The doctors told his parents it was unhealthy.   \n",
       "1     Carrie would sneak rides on her sister's bike.   \n",
       "2  After walking for over a mile, something happe...   \n",
       "3  He began yelling about how long his food was t...   \n",
       "4  I decided to agree with what she says and list...   \n",
       "\n",
       "                                           sentence4  \\\n",
       "0  His parents understood and decided to make a c...   \n",
       "1  She got nervous on a hill and crashed into a w...   \n",
       "2        Morgan decided to propose to her boyfriend.   \n",
       "3                     Jane didn't know how to react.   \n",
       "4           After I got home, I got a text from her.   \n",
       "\n",
       "                                           sentence5  \n",
       "0             They got themselves and Dan on a diet.  \n",
       "1  The bike frame bent and Carrie got a deep gash...  \n",
       "2  Her boyfriend was upset he didn't propose to h...  \n",
       "3  Luckily, her coworker intervened and calmed th...  \n",
       "4             She asked if we can hang out tomorrow.  "
      ]
     },
     "execution_count": 4,
     "metadata": {},
     "output_type": "execute_result"
    }
   ],
   "source": [
    "training_set.head()"
   ]
  },
  {
   "cell_type": "code",
   "execution_count": 5,
   "metadata": {},
   "outputs": [],
   "source": [
    "corpus=[]\n",
    "for i in range(len(training_set)):\n",
    "    for j in range(5):\n",
    "        s='sentence'+str(j+1)\n",
    "        c=training_set.iloc[i][s]\n",
    "        corpus.append(gensim.utils.simple_preprocess(c))"
   ]
  },
  {
   "cell_type": "code",
   "execution_count": 218,
   "metadata": {},
   "outputs": [],
   "source": [
    "from gensim.models import Doc2Vec\n",
    "doc2vec_model = Doc2Vec.load('./word2vec_model/m_300.d2v')"
   ]
  },
  {
   "cell_type": "code",
   "execution_count": 219,
   "metadata": {},
   "outputs": [],
   "source": [
    "encoded_list=np.array([doc2vec_model.infer_vector(sentence) for sentence in corpus])\n",
    "encoded= np.arange(len(encoded_list))"
   ]
  },
  {
   "cell_type": "code",
   "execution_count": null,
   "metadata": {},
   "outputs": [],
   "source": []
  },
  {
   "cell_type": "code",
   "execution_count": null,
   "metadata": {},
   "outputs": [],
   "source": []
  },
  {
   "cell_type": "code",
   "execution_count": 10,
   "metadata": {},
   "outputs": [],
   "source": [
    "def get_batches(arr, batch_size, seq_length=5):\n",
    "    batch_size_total = batch_size * seq_length\n",
    "    # total number of batches we can make\n",
    "    n_batches = len(arr)//batch_size_total\n",
    "    \n",
    "    # Keep only enough characters to make full batches\n",
    "    arr = arr[:n_batches * batch_size_total]\n",
    "    # Reshape into batch_size rows\n",
    "    arr = arr.reshape((batch_size, -1))\n",
    "    \n",
    "    # iterate through the array, one sequence at a time\n",
    "    for n in range(0, arr.shape[1], seq_length):\n",
    "        # The features\n",
    "        x = arr[:, n:n+seq_length]\n",
    "        # The targets, shifted by one\n",
    "        y = np.zeros_like(x)\n",
    "        try:\n",
    "            y[:, :-1], y[:, -1] = x[:, 1:], arr[:, n+seq_length]\n",
    "        except IndexError:\n",
    "            y[:, :-1], y[:, -1] = x[:, 1:], arr[:, 0]\n",
    "        yield x, y"
   ]
  },
  {
   "cell_type": "code",
   "execution_count": 69,
   "metadata": {},
   "outputs": [],
   "source": [
    "def get_encode(arr, dimension=300):\n",
    "    \n",
    "    # Initialize the the encoded array\n",
    "    one_hot = np.zeros((np.multiply(*arr.shape), dimension), dtype=np.float32)\n",
    "    \n",
    "    for i in range(one_hot.shape[0]):\n",
    "        one_hot[i]=encoded_list[arr.reshape(-1,1)[i]]\n",
    "        \n",
    "    one_hot = one_hot.reshape((*arr.shape, dimension))\n",
    "    return one_hot"
   ]
  },
  {
   "cell_type": "code",
   "execution_count": 12,
   "metadata": {},
   "outputs": [],
   "source": [
    "class LSTMModel(nn.Module):\n",
    "\n",
    "    def __init__(self,length,hidden_dim):\n",
    "        super(LSTMModel, self).__init__()\n",
    "        self.hidden_dim = hidden_dim\n",
    "        self.hidden_dim=hidden_dim\n",
    "        \n",
    "        self.lstm1 = nn.LSTM(length, hidden_dim, num_layers=2,dropout=0.5, batch_first=True)\n",
    "#         self.lstm2 = nn.LSTM(len(self.chars), hidden_dim, num_layers=3)\n",
    "        \n",
    "        self.dropout = nn.Dropout(p=0.5)\n",
    "        \n",
    "        self.linear = nn.Linear(self.hidden_dim, length)\n",
    "\n",
    "    def forward(self, input,hidden=None):\n",
    "        seq_len, batch_size,_ = input.size()\n",
    "        #print(input.shape)\n",
    "        if hidden is None:\n",
    "            h_0 = input.data.new(2, batch_size, self.hidden_dim).zero_().cuda()\n",
    "            c_0 = input.data.new(2, batch_size, self.hidden_dim).zero_().cuda()\n",
    "        else:\n",
    "            h_0, c_0 = hidden\n",
    "        \n",
    "        output, hidden = self.lstm1(input, hidden)\n",
    "#         output, hidden = self.lstm2(input, hidden)\n",
    "        \n",
    "        output = self.dropout(output)\n",
    "        output = self.linear(output.view(-1, self.hidden_dim))\n",
    "        return output, hidden"
   ]
  },
  {
   "cell_type": "code",
   "execution_count": null,
   "metadata": {},
   "outputs": [],
   "source": []
  },
  {
   "cell_type": "code",
   "execution_count": null,
   "metadata": {},
   "outputs": [],
   "source": []
  },
  {
   "cell_type": "markdown",
   "metadata": {},
   "source": [
    "## Train LSTM model"
   ]
  },
  {
   "cell_type": "code",
   "execution_count": 220,
   "metadata": {},
   "outputs": [
    {
     "data": {
      "text/plain": [
       "LSTMModel(\n",
       "  (lstm1): LSTM(300, 256, num_layers=2, batch_first=True, dropout=0.5)\n",
       "  (dropout): Dropout(p=0.5)\n",
       "  (linear): Linear(in_features=256, out_features=300, bias=True)\n",
       ")"
      ]
     },
     "execution_count": 220,
     "metadata": {},
     "output_type": "execute_result"
    }
   ],
   "source": [
    "# EMBEDDING_DIM = 64\n",
    "dimension=300\n",
    "HIDDEN_DIM = 256\n",
    "# model = LSTMModel(chars,HIDDEN_DIM)\n",
    "model = LSTMModel(dimension,HIDDEN_DIM)\n",
    "device = torch.device(\"cuda\") if torch.cuda.is_available() else torch.device(\"cpu\")\n",
    "model.to(device)"
   ]
  },
  {
   "cell_type": "code",
   "execution_count": 221,
   "metadata": {},
   "outputs": [
    {
     "name": "stdout",
     "output_type": "stream",
     "text": [
      "Epoch: 0 [0], loss: 1.013\n",
      "Epoch: 0 [250], loss: 0.643\n"
     ]
    },
    {
     "name": "stderr",
     "output_type": "stream",
     "text": [
      "C:\\ProgramData\\Anaconda3\\lib\\site-packages\\torch\\serialization.py:251: UserWarning: Couldn't retrieve source code for container of type LSTMModel. It won't be checked for correctness upon loading.\n",
      "  \"type \" + obj.__name__ + \". It won't be checked \"\n"
     ]
    },
    {
     "name": "stdout",
     "output_type": "stream",
     "text": [
      "Epoch: 1 [0], loss: 0.629\n",
      "Epoch: 1 [250], loss: 0.629\n",
      "Epoch: 2 [0], loss: 0.622\n",
      "Epoch: 2 [250], loss: 0.625\n",
      "Epoch: 3 [0], loss: 0.620\n",
      "Epoch: 3 [250], loss: 0.623\n",
      "Epoch: 4 [0], loss: 0.618\n",
      "Epoch: 4 [250], loss: 0.621\n",
      "Epoch: 5 [0], loss: 0.618\n",
      "Epoch: 5 [250], loss: 0.622\n",
      "Epoch: 6 [0], loss: 0.617\n",
      "Epoch: 6 [250], loss: 0.619\n",
      "Epoch: 7 [0], loss: 0.616\n",
      "Epoch: 7 [250], loss: 0.620\n",
      "Epoch: 8 [0], loss: 0.615\n",
      "Epoch: 8 [250], loss: 0.618\n",
      "Epoch: 9 [0], loss: 0.615\n",
      "Epoch: 9 [250], loss: 0.618\n",
      "Epoch: 10 [0], loss: 0.614\n",
      "Epoch: 10 [250], loss: 0.617\n",
      "Epoch: 11 [0], loss: 0.613\n",
      "Epoch: 11 [250], loss: 0.617\n",
      "Epoch: 12 [0], loss: 0.613\n",
      "Epoch: 12 [250], loss: 0.616\n",
      "Epoch: 13 [0], loss: 0.612\n",
      "Epoch: 13 [250], loss: 0.617\n",
      "Epoch: 14 [0], loss: 0.610\n",
      "Epoch: 14 [250], loss: 0.616\n",
      "Epoch: 15 [0], loss: 0.610\n",
      "Epoch: 15 [250], loss: 0.616\n",
      "Epoch: 16 [0], loss: 0.611\n",
      "Epoch: 16 [250], loss: 0.617\n",
      "Epoch: 17 [0], loss: 0.611\n",
      "Epoch: 17 [250], loss: 0.614\n",
      "Epoch: 18 [0], loss: 0.611\n",
      "Epoch: 18 [250], loss: 0.614\n",
      "Epoch: 19 [0], loss: 0.611\n",
      "Epoch: 19 [250], loss: 0.612\n"
     ]
    }
   ],
   "source": [
    "batch_size=100\n",
    "seq_length=5\n",
    "print_every_iters=250\n",
    "\n",
    "\n",
    "optimizer = torch.optim.Adam(model.parameters(), lr=0.002) \n",
    "loss_fn = nn.CosineEmbeddingLoss()\n",
    "# loss_fn = nn.CrossEntropyLoss()\n",
    "\n",
    "\n",
    "model.train()\n",
    "for epoch in range(20):\n",
    "    for i, (x, y) in enumerate(get_batches(encoded, batch_size, seq_length)):\n",
    "        x= get_encode(x,dimension)\n",
    "        y=get_encode(y,dimension)\n",
    "        inputs, targets = torch.from_numpy(x).to(device), torch.from_numpy(y).to(device)\n",
    "        \n",
    "        \n",
    "        \n",
    "        optimizer.zero_grad()\n",
    "        outputs,_ = model(inputs)\n",
    "        \n",
    "        loss = loss_fn(outputs,targets.view(-1,dimension),torch.ones(500).to(device))\n",
    "        loss.backward()        \n",
    "        nn.utils.clip_grad_norm_(model.parameters(), 5)\n",
    "        \n",
    "        \n",
    "        optimizer.step()\n",
    "#         print(outputs.argmax(1).size(),targets.view(-1).size())\n",
    "        if i % print_every_iters == 0:\n",
    "            print ('Epoch: %d [%d], loss: %1.3f' \\\n",
    "                   % (epoch, i, loss.item()\n",
    "                      ))\n",
    "    torch.save(model, './lstm_model/lstm300.mdl')\n"
   ]
  },
  {
   "cell_type": "code",
   "execution_count": null,
   "metadata": {},
   "outputs": [],
   "source": [
    "# model = torch.load('./lstm_model/lstm.mdl')"
   ]
  },
  {
   "cell_type": "code",
   "execution_count": null,
   "metadata": {},
   "outputs": [],
   "source": []
  },
  {
   "cell_type": "markdown",
   "metadata": {},
   "source": [
    "## compute test accuracy"
   ]
  },
  {
   "cell_type": "code",
   "execution_count": 48,
   "metadata": {},
   "outputs": [],
   "source": [
    "test_data = pd.read_csv('./data/cloze_test_test__spring2016 - cloze_test_ALL_test.csv')"
   ]
  },
  {
   "cell_type": "code",
   "execution_count": 49,
   "metadata": {},
   "outputs": [
    {
     "data": {
      "text/html": [
       "<div>\n",
       "<style scoped>\n",
       "    .dataframe tbody tr th:only-of-type {\n",
       "        vertical-align: middle;\n",
       "    }\n",
       "\n",
       "    .dataframe tbody tr th {\n",
       "        vertical-align: top;\n",
       "    }\n",
       "\n",
       "    .dataframe thead th {\n",
       "        text-align: right;\n",
       "    }\n",
       "</style>\n",
       "<table border=\"1\" class=\"dataframe\">\n",
       "  <thead>\n",
       "    <tr style=\"text-align: right;\">\n",
       "      <th></th>\n",
       "      <th>InputStoryid</th>\n",
       "      <th>InputSentence1</th>\n",
       "      <th>InputSentence2</th>\n",
       "      <th>InputSentence3</th>\n",
       "      <th>InputSentence4</th>\n",
       "      <th>RandomFifthSentenceQuiz1</th>\n",
       "      <th>RandomFifthSentenceQuiz2</th>\n",
       "      <th>AnswerRightEnding</th>\n",
       "    </tr>\n",
       "  </thead>\n",
       "  <tbody>\n",
       "    <tr>\n",
       "      <th>0</th>\n",
       "      <td>b929f263-1dcd-4a0b-b267-5d5ff2fe65bb</td>\n",
       "      <td>My friends all love to go to the club to dance.</td>\n",
       "      <td>They think it's a lot of fun and always invite.</td>\n",
       "      <td>I finally decided to tag along last Saturday.</td>\n",
       "      <td>I danced terribly and broke a friend's toe.</td>\n",
       "      <td>My friends decided to keep inviting me out as ...</td>\n",
       "      <td>The next weekend, I was asked to please stay h...</td>\n",
       "      <td>2</td>\n",
       "    </tr>\n",
       "    <tr>\n",
       "      <th>1</th>\n",
       "      <td>7cbbc0af-bcce-4f56-871d-963f9bb6a99d</td>\n",
       "      <td>I tried going to the park the other day.</td>\n",
       "      <td>The weather seemed nice enough for a walk.</td>\n",
       "      <td>Within minutes of getting there I started snee...</td>\n",
       "      <td>My eyes were watery and it was hard to breathe.</td>\n",
       "      <td>My allergies were too bad and I had to go back...</td>\n",
       "      <td>It reminded me of how much I loved spring flow...</td>\n",
       "      <td>1</td>\n",
       "    </tr>\n",
       "    <tr>\n",
       "      <th>2</th>\n",
       "      <td>4745d627-be9b-45f2-ad92-99c82cc83f85</td>\n",
       "      <td>Avery was married with children.</td>\n",
       "      <td>She was tired of her boring life.</td>\n",
       "      <td>One day, she decided to meet up with an old bo...</td>\n",
       "      <td>She made poor decisions that night and was unf...</td>\n",
       "      <td>Avery thought her children would be happy with...</td>\n",
       "      <td>Avery regretted what she did the next day.</td>\n",
       "      <td>2</td>\n",
       "    </tr>\n",
       "    <tr>\n",
       "      <th>3</th>\n",
       "      <td>6bc5a855-3a02-454c-8d8b-4428b1864f95</td>\n",
       "      <td>Josh loved when his mom baked apple pie.</td>\n",
       "      <td>He hated how he always had to wait until after...</td>\n",
       "      <td>So he decided this time he would sneak a piece...</td>\n",
       "      <td>The eggs his mom used must have been bad though.</td>\n",
       "      <td>Josh thought that the pie was delicious.</td>\n",
       "      <td>Josh got sick.</td>\n",
       "      <td>2</td>\n",
       "    </tr>\n",
       "    <tr>\n",
       "      <th>4</th>\n",
       "      <td>2f74e81d-957b-4541-9e66-59e5eaa6aef1</td>\n",
       "      <td>John was writing lyrics for his new album.</td>\n",
       "      <td>He started experiencing writer's block.</td>\n",
       "      <td>He tried to force himself to write but it woul...</td>\n",
       "      <td>He took a walk, hung out with some friends, an...</td>\n",
       "      <td>He felt inspiration and then went back home to...</td>\n",
       "      <td>John then got an idea for his painting.</td>\n",
       "      <td>1</td>\n",
       "    </tr>\n",
       "  </tbody>\n",
       "</table>\n",
       "</div>"
      ],
      "text/plain": [
       "                           InputStoryid  \\\n",
       "0  b929f263-1dcd-4a0b-b267-5d5ff2fe65bb   \n",
       "1  7cbbc0af-bcce-4f56-871d-963f9bb6a99d   \n",
       "2  4745d627-be9b-45f2-ad92-99c82cc83f85   \n",
       "3  6bc5a855-3a02-454c-8d8b-4428b1864f95   \n",
       "4  2f74e81d-957b-4541-9e66-59e5eaa6aef1   \n",
       "\n",
       "                                    InputSentence1  \\\n",
       "0  My friends all love to go to the club to dance.   \n",
       "1         I tried going to the park the other day.   \n",
       "2                 Avery was married with children.   \n",
       "3         Josh loved when his mom baked apple pie.   \n",
       "4       John was writing lyrics for his new album.   \n",
       "\n",
       "                                      InputSentence2  \\\n",
       "0    They think it's a lot of fun and always invite.   \n",
       "1         The weather seemed nice enough for a walk.   \n",
       "2                  She was tired of her boring life.   \n",
       "3  He hated how he always had to wait until after...   \n",
       "4            He started experiencing writer's block.   \n",
       "\n",
       "                                      InputSentence3  \\\n",
       "0      I finally decided to tag along last Saturday.   \n",
       "1  Within minutes of getting there I started snee...   \n",
       "2  One day, she decided to meet up with an old bo...   \n",
       "3  So he decided this time he would sneak a piece...   \n",
       "4  He tried to force himself to write but it woul...   \n",
       "\n",
       "                                      InputSentence4  \\\n",
       "0        I danced terribly and broke a friend's toe.   \n",
       "1    My eyes were watery and it was hard to breathe.   \n",
       "2  She made poor decisions that night and was unf...   \n",
       "3   The eggs his mom used must have been bad though.   \n",
       "4  He took a walk, hung out with some friends, an...   \n",
       "\n",
       "                            RandomFifthSentenceQuiz1  \\\n",
       "0  My friends decided to keep inviting me out as ...   \n",
       "1  My allergies were too bad and I had to go back...   \n",
       "2  Avery thought her children would be happy with...   \n",
       "3           Josh thought that the pie was delicious.   \n",
       "4  He felt inspiration and then went back home to...   \n",
       "\n",
       "                            RandomFifthSentenceQuiz2  AnswerRightEnding  \n",
       "0  The next weekend, I was asked to please stay h...                  2  \n",
       "1  It reminded me of how much I loved spring flow...                  1  \n",
       "2         Avery regretted what she did the next day.                  2  \n",
       "3                                     Josh got sick.                  2  \n",
       "4            John then got an idea for his painting.                  1  "
      ]
     },
     "execution_count": 49,
     "metadata": {},
     "output_type": "execute_result"
    }
   ],
   "source": [
    "test_data.head()"
   ]
  },
  {
   "cell_type": "code",
   "execution_count": null,
   "metadata": {},
   "outputs": [],
   "source": []
  },
  {
   "cell_type": "code",
   "execution_count": 222,
   "metadata": {},
   "outputs": [],
   "source": [
    "test = []\n",
    "choice_1 = [] \n",
    "choice_2 = []\n",
    "for i in range(len(test_data)):\n",
    "    test.append(doc2vec_model.infer_vector(gensim.utils.simple_preprocess(test_data.loc[i]['InputSentence4'])))                \n",
    "    choice_1.append(doc2vec_model.infer_vector(gensim.utils.simple_preprocess(test_data.loc[i][\"RandomFifthSentenceQuiz1\"])))\n",
    "    choice_2.append(doc2vec_model.infer_vector(gensim.utils.simple_preprocess(test_data.loc[i][\"RandomFifthSentenceQuiz2\"])))       "
   ]
  },
  {
   "cell_type": "code",
   "execution_count": 210,
   "metadata": {},
   "outputs": [],
   "source": [
    "def cosine(a, b):\n",
    "    return torch.dot(a, b) / (torch.norm(a) * torch.norm(b))"
   ]
  },
  {
   "cell_type": "code",
   "execution_count": 223,
   "metadata": {},
   "outputs": [],
   "source": [
    "test_arrange=np.arange(len(test))\n",
    "test=np.array([sentence for sentence in test])\n",
    "def test_get_encode(arr, dimension=300):\n",
    "    \n",
    "    # Initialize the the encoded array\n",
    "    one_hot = np.zeros((np.multiply(*arr.shape), dimension), dtype=np.float32)\n",
    "    \n",
    "    for i in range(one_hot.shape[0]):\n",
    "        one_hot[i]=test[arr.reshape(-1,1)[i]]\n",
    "        \n",
    "    one_hot = one_hot.reshape((*arr.shape, dimension))\n",
    "    return one_hot"
   ]
  },
  {
   "cell_type": "code",
   "execution_count": 206,
   "metadata": {},
   "outputs": [],
   "source": [
    "def get_answer(out,choice1,choice2):\n",
    "    if cosine(out[0],torch.from_numpy(choice1).to(device)).item()>cosine(out[0],torch.from_numpy(choice2).to(device)).item():\n",
    "        return 1\n",
    "    else:\n",
    "        return 2"
   ]
  },
  {
   "cell_type": "code",
   "execution_count": 224,
   "metadata": {},
   "outputs": [],
   "source": [
    "answer=[]\n",
    "model.eval()\n",
    "for i in range(len(test)):\n",
    "    arr=np.array([i]).reshape(1,1)\n",
    "    input=torch.from_numpy(test_get_encode(arr,dimension)).to(device)\n",
    "    out,_=model(input)\n",
    "    answer.append(get_answer(out,choice_1[i],choice_2[i]))"
   ]
  },
  {
   "cell_type": "code",
   "execution_count": 225,
   "metadata": {},
   "outputs": [
    {
     "data": {
      "text/plain": [
       "0.5387493319080705"
      ]
     },
     "execution_count": 225,
     "metadata": {},
     "output_type": "execute_result"
    }
   ],
   "source": [
    "test_answer_true=np.array(list(test_data[\"AnswerRightEnding\"]))\n",
    "np.mean(np.array(answer)==test_answer_true)"
   ]
  },
  {
   "cell_type": "markdown",
   "metadata": {},
   "source": [
    "lstm accuracy: 54.14%"
   ]
  },
  {
   "cell_type": "markdown",
   "metadata": {},
   "source": [
    "m300,lstm300,53.87%"
   ]
  },
  {
   "cell_type": "code",
   "execution_count": null,
   "metadata": {},
   "outputs": [],
   "source": []
  }
 ],
 "metadata": {
  "kernelspec": {
   "display_name": "Python 3",
   "language": "python",
   "name": "python3"
  },
  "language_info": {
   "codemirror_mode": {
    "name": "ipython",
    "version": 3
   },
   "file_extension": ".py",
   "mimetype": "text/x-python",
   "name": "python",
   "nbconvert_exporter": "python",
   "pygments_lexer": "ipython3",
   "version": "3.6.5"
  }
 },
 "nbformat": 4,
 "nbformat_minor": 2
}
